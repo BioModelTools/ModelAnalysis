{
 "cells": [
  {
   "cell_type": "code",
   "execution_count": null,
   "metadata": {
    "collapsed": false
   },
   "outputs": [],
   "source": [
    "import sys\n",
    "from util import createSBML\n",
    "from simple_sbml import SimpleSBML\n",
    "import libsbml as libsbml"
   ]
  },
  {
   "cell_type": "code",
   "execution_count": null,
   "metadata": {
    "collapsed": false
   },
   "outputs": [],
   "source": [
    "antimony = '''\n",
    "s1 -> s2; 1\n",
    "s1 = 1\n",
    "'''\n",
    "sbml = createSBML(antimony)\n",
    "sbml"
   ]
  },
  {
   "cell_type": "code",
   "execution_count": null,
   "metadata": {
    "collapsed": false
   },
   "outputs": [],
   "source": [
    "dir(rr)"
   ]
  },
  {
   "cell_type": "markdown",
   "metadata": {},
   "source": [
    "# Reading a document"
   ]
  },
  {
   "cell_type": "code",
   "execution_count": null,
   "metadata": {
    "collapsed": true
   },
   "outputs": [],
   "source": [
    "def check(value, message):\n",
    "   \"\"\"If 'value' is None, prints an error message constructed using\n",
    "   'message' and then exits with status code 1.  If 'value' is an integer,\n",
    "   it assumes it is a libSBML return status code.  If the code value is\n",
    "   LIBSBML_OPERATION_SUCCESS, returns without further action; if it is not,\n",
    "   prints an error message constructed using 'message' along with text from\n",
    "   libSBML explaining the meaning of the code, and exits with status code 1.\n",
    "   \"\"\"\n",
    "   if value == None:\n",
    "     raise SystemExit('LibSBML returned a null value trying to ' + message + '.')\n",
    "   elif type(value) is int:\n",
    "     if value == LIBSBML_OPERATION_SUCCESS:\n",
    "       return\n",
    "     else:\n",
    "       err_msg = 'Error encountered trying to ' + message + '.' \\\n",
    "                 + 'LibSBML returned error code ' + str(value) + ': \"' \\\n",
    "                 + OperationReturnValue_toString(value).strip() + '\"'\n",
    "       raise SystemExit(err_msg)\n",
    "   else:\n",
    "     return"
   ]
  },
  {
   "cell_type": "code",
   "execution_count": null,
   "metadata": {
    "collapsed": false
   },
   "outputs": [],
   "source": [
    "# Iterate over species\n",
    "reader = libsbml.SBMLReader()\n",
    "document = reader.readSBML(\"chemotaxis.xml\")\n",
    "model = document.getModel()\n",
    "#for n in range(model.getNumSpecies()):\n",
    "#    print model.getSpecies(n).getId()\n"
   ]
  },
  {
   "cell_type": "code",
   "execution_count": null,
   "metadata": {
    "collapsed": false
   },
   "outputs": [],
   "source": [
    "reaction = model.getReaction(0)\n",
    "type(reaction.getReactant(0))"
   ]
  },
  {
   "cell_type": "code",
   "execution_count": null,
   "metadata": {
    "collapsed": false
   },
   "outputs": [],
   "source": [
    "for n in range(model.getNumReactions()):\n",
    "  reaction = model.getReaction(n)\n",
    "  num = reaction.getNumProducts()\n",
    "  reactant = reaction.getProduct(num - 1)\n",
    "  reactant.getSpecies())\n",
    "#dir(reaction)"
   ]
  },
  {
   "cell_type": "code",
   "execution_count": null,
   "metadata": {
    "collapsed": true
   },
   "outputs": [],
   "source": [
    " if (kl.isSetMath()):\n",
    "          formula = formulaToString(kl.getMath());\n",
    "          print(\"Reaction \" + str(n) + \", formula: \" + formula + \"\\n\");"
   ]
  },
  {
   "cell_type": "code",
   "execution_count": null,
   "metadata": {
    "collapsed": false
   },
   "outputs": [],
   "source": [
    "# Iterate over reactions\n",
    "reader = libsbml.SBMLReader()\n",
    "document = reader.readSBML(\"chemotaxis.xml\")\n",
    "model = document.getModel()\n",
    "for n in range(model.getNumReactions()):\n",
    "    reaction = model.getReaction(n)\n",
    "    stg = \" \"\n",
    "    for m in range(reaction.getNumReactants()):\n",
    "        reactant = reaction.getReactant(m)\n",
    "        stg += \" \" + reactant.getSpecies()\n",
    "    stg += \" -> \"\n",
    "    for m in range(reaction.getNumProducts()):\n",
    "        reactant = reaction.getProduct(m)\n",
    "        stg += \" \" +reactant.getSpecies()\n",
    "    kinetics = reaction.getKineticLaw()\n",
    "    stg += \"; \"\n",
    "    if kinetics.isSetMath():\n",
    "       math = kinetics.getMath()\n",
    "       if math.getNumChildren() > 0:\n",
    "         stg += \" \" + math.getLeftChild().getId()\n",
    "         new_math = math.getRightChild()\n",
    "         if new_math is not None:\n",
    "            if new_math.getLeftChild() is not None:\n",
    "              stg += \" \" + new_math.getLeftChild()\n",
    "            if new_math.getRightChild() is not None:\n",
    "              stg += \" \" + new_math.getRigthChild()\n",
    "    print stg"
   ]
  },
  {
   "cell_type": "code",
   "execution_count": null,
   "metadata": {
    "collapsed": true
   },
   "outputs": [],
   "source": [
    "reader = libsbml.SBMLReader()\n",
    "document = reader.readSBML(\"chemotaxis.xml\")\n",
    "m = document.getModel()\n",
    "\n",
    "for i in range(0, m.getNumReactions()):\n",
    "  re = m.getReaction(i);\n",
    "  import pdb; pdb.set_trace()\n",
    "  m.printAnnotation(re);"
   ]
  },
  {
   "cell_type": "code",
   "execution_count": null,
   "metadata": {
    "collapsed": false
   },
   "outputs": [],
   "source": [
    "dir(re)\n"
   ]
  },
  {
   "cell_type": "code",
   "execution_count": null,
   "metadata": {
    "collapsed": false
   },
   "outputs": [],
   "source": [
    "reader = libsbml.SBMLReader()\n",
    "document = reader.readSBML(\"chemotaxis.xml\")\n",
    "m = document.getModel()\n",
    "\n",
    "for i in range(0, m.getNumReactions()):\n",
    "  re = m.getReaction(i);\n",
    "  import pdb; pdb.set_trace()\n",
    "  m.printAnnotation(re);\n",
    "\n",
    "    # SpeciesReference (Reacatant)\n",
    "  for j in range(0, re.getNumReactants()):\n",
    "    rt = re.getReactant(j);\n",
    "    if (rt.isSetAnnotation()):\n",
    "      print(\"     \");\n",
    "    libsbml.printAnnotation(rt, rt.getSpecies());\n",
    "\n",
    "  # SpeciesReference (Product) \n",
    "  for j in range(0, re.getNumProducts()):\n",
    "    rt = re.getProduct(j);\n",
    "    if (rt.isSetAnnotation()):\n",
    "      print(\"     \");\n",
    "    printAnnotation(rt, rt.getSpecies());\n",
    "\n",
    "  # ModifierSpeciesReference (Modifiers)\n",
    "  for j in range(0, re.getNumModifiers()):\n",
    "      md = re.getModifier(j);\n",
    "      if (md.isSetAnnotation()):\n",
    "        print(\"     \");\n",
    "      printAnnotation(md, md.getSpecies());\n",
    "\n",
    "  # KineticLaw \n",
    "  if (re.isSetKineticLaw()):\n",
    "    kl = re.getKineticLaw();\n",
    "    if (kl.isSetAnnotation()):\n",
    "      print(\"   \");\n",
    "    printAnnotation(kl);\n",
    "\n",
    "    # Parameter   \n",
    "    for j in range(0, kl.getNumParameters()):\n",
    "      pa = kl.getParameter(j);\n",
    "      if (pa.isSetAnnotation()):\n",
    "        print(\"      \");\n",
    "      printAnnotation(pa);\n",
    "  \n",
    "# Species \n",
    "for i in range(0, m.getNumSpecies()):\n",
    "  sp = m.getSpecies(i);\n",
    "  printAnnotation(sp);\n",
    "  \n",
    "# Compartments \n",
    "for i in range(0, m.getNumCompartments()):\n",
    "  sp = m.getCompartment(i);\n",
    "  printAnnotation(sp);"
   ]
  },
  {
   "cell_type": "markdown",
   "metadata": {},
   "source": [
    "# Doing math"
   ]
  },
  {
   "cell_type": "code",
   "execution_count": null,
   "metadata": {
    "collapsed": false
   },
   "outputs": [],
   "source": [
    "expected = \"1 + f(x)\"\n",
    " \n",
    "xml = \"<?xml version='1.0' encoding='UTF-8'?>\"\\\n",
    "       \"<math xmlns='http://www.w3.org/1998/Math/MathML'>\"\\\n",
    "       \"  <apply> <plus/> <cn> 1 </cn>\"\\\n",
    "       \"                  <apply> <ci> f </ci> <ci> x </ci> </apply>\"\\\n",
    "       \"  </apply>\"\\\n",
    "       \"</math>\"\n",
    " \n",
    "ast    = libsbml.readMathMLFromString(xml)\n",
    "result = libsbml.formulaToString(ast)\n",
    " \n",
    "if (result == expected):\n",
    "     print \"Got expected result\"\n",
    "else:\n",
    "     print \"Mismatch after readMathMLFromString()\"\n",
    " \n",
    "new_mathml = libsbml.parseFormula(result)\n",
    "new_string = libsbml.writeMathMLToString(new_mathml)\n",
    " \n",
    "print \"Result of writing AST to string: \"\n",
    "print new_string"
   ]
  },
  {
   "cell_type": "code",
   "execution_count": null,
   "metadata": {
    "collapsed": false
   },
   "outputs": [],
   "source": [
    "x = 3\n",
    "def f(x):\n",
    "    return x + 1\n",
    "eval(expected)"
   ]
  },
  {
   "cell_type": "code",
   "execution_count": null,
   "metadata": {
    "collapsed": false
   },
   "outputs": [],
   "source": [
    "ast"
   ]
  },
  {
   "cell_type": "code",
   "execution_count": 1,
   "metadata": {
    "collapsed": false
   },
   "outputs": [
    {
     "name": "stderr",
     "output_type": "stream",
     "text": [
      "/home/ubuntu/miniconda2/lib/python2.7/site-packages/tellurium/notebooks/__init__.py:16: UserWarning: Notebook tools are not imported, due to missing dependencies.\n",
      "  warnings.warn(\"Notebook tools are not imported, due to missing dependencies.\")\n"
     ]
    }
   ],
   "source": [
    "import tellurium as te\n",
    "def getAntimonyModel(biomodel):\n",
    "  \"\"\"\n",
    "  :param str biomodel: string identifier of the biomodel\n",
    "  \"\"\"\n",
    "  url = \"http://www.ebi.ac.uk/biomodels-main/download?mid=%s\" % biomodel\n",
    "  return te.loadSBMLModel(url).getAntimony()      "
   ]
  },
  {
   "cell_type": "code",
   "execution_count": 11,
   "metadata": {
    "collapsed": false
   },
   "outputs": [],
   "source": [
    "import urllib2\n",
    "response = urllib2.urlopen('http://www.ebi.ac.uk/biomodels-main/download?mid=BIOMD0000000227')\n",
    "xml = response.read()"
   ]
  },
  {
   "cell_type": "code",
   "execution_count": 14,
   "metadata": {
    "collapsed": false
   },
   "outputs": [
    {
     "name": "stdout",
     "output_type": "stream",
     "text": [
      "// Created by libAntimony v2.8.1\n",
      "model *Neumann2010_CD95Stimulation_NFkB_Apoptosis()\n",
      "\n",
      "  // Compartments and Species:\n",
      "  compartment default;\n",
      "  species L in default, L_RF in default, L_RF_C8 in default, L_RF_FL in default;\n",
      "  species L_RF_FS in default, p43_p41 in default, C3 in default, C8 in default;\n",
      "  species C8_star in default, C3_star in default, p43_FLIP in default, NF_kB_IkB in default;\n",
      "  species NF_kB_IkB_P in default, p43_FLIP_IKK_star in default, NF_kB_star in default;\n",
      "  species RF in default, FL in default, FS in default, IKK in default, L_RF_C8_FS in default;\n",
      "  species L_RF_FL_FL in default, L_RF_FL_FS in default, L_RF_FS_FS in default;\n",
      "\n",
      "  // Reactions:\n",
      "  reaction_1: L + RF => L_RF; default*k1*L*RF;\n",
      "  reaction_2: L_RF + C8 => L_RF_C8; default*k2*L_RF*C8;\n",
      "  reaction_3: L_RF + FL => L_RF_FL; default*k3*L_RF*FL;\n",
      "  reaction_4: L_RF + FS => L_RF_FS; default*k4*L_RF*FS;\n",
      "  reaction_5: L_RF_C8 + C8 => p43_p41 + p43_p41; default*k5*L_RF_C8*C8;\n",
      "  reaction_6: L_RF_C8 + FL => p43_FLIP; default*k6*L_RF_C8*FL;\n",
      "  reaction_7: L_RF_C8 + FS => L_RF_C8_FS; default*k7*L_RF_C8*FS;\n",
      "  reaction_8: L_RF_FL + C8 => p43_FLIP; default*k5*L_RF_FL*C8;\n",
      "  reaction_9: L_RF_FL + FL => L_RF_FL_FL; default*k6*L_RF_FL*FL;\n",
      "  reaction_10: L_RF_FL + FS => L_RF_FL_FS; default*k7*L_RF_FL*FS;\n",
      "  reaction_11: L_RF_FS + C8 => L_RF_C8_FS; default*k5*L_RF_FS*C8;\n",
      "  reaction_12: L_RF_FS + FL => L_RF_FL_FS; default*k6*L_RF_FS*FL;\n",
      "  reaction_13: L_RF_FS + FS => L_RF_FS_FS; default*k7*L_RF_FS*FS;\n",
      "  reaction_14: p43_p41 + p43_p41 => C8_star; default*k8*p43_p41*p43_p41;\n",
      "  reaction_15: C3 + C8_star => C3_star + C8_star; default*k9*C3*C8_star;\n",
      "  reaction_16: C8 + C3_star => p43_p41 + C3_star; default*k10*C8*C3_star;\n",
      "  reaction_17: C8_star => ; default*k11*C8_star;\n",
      "  reaction_18: C3_star => ; default*k12*C3_star;\n",
      "  reaction_19: p43_FLIP + IKK => p43_FLIP_IKK_star; default*k13*p43_FLIP*IKK;\n",
      "  reaction_20: NF_kB_IkB + p43_FLIP_IKK_star => NF_kB_IkB_P + p43_FLIP_IKK_star; default*k14*NF_kB_IkB*p43_FLIP_IKK_star;\n",
      "  reaction_21: NF_kB_IkB_P => NF_kB_star; default*k15*NF_kB_IkB_P;\n",
      "  reaction_22: p43_FLIP_IKK_star => ; default*k16*p43_FLIP_IKK_star;\n",
      "  reaction_23: NF_kB_star => ; default*k17*NF_kB_star;\n",
      "\n",
      "  // Species initializations:\n",
      "  L = 113.22;\n",
      "  L_RF = 0;\n",
      "  L_RF_C8 = 0;\n",
      "  L_RF_FL = 0;\n",
      "  L_RF_FS = 0;\n",
      "  p43_p41 = 0;\n",
      "  C3 = 1.443404;\n",
      "  C8 = 64.47652;\n",
      "  C8_star = 0;\n",
      "  C3_star = 0;\n",
      "  p43_FLIP = 0;\n",
      "  NF_kB_IkB = 4.739546;\n",
      "  NF_kB_IkB_P = 0;\n",
      "  p43_FLIP_IKK_star = 0;\n",
      "  NF_kB_star = 0;\n",
      "  RF = 91.26592;\n",
      "  FL = 7.398562;\n",
      "  FS = 5.083923;\n",
      "  IKK = 5.772825;\n",
      "  L_RF_C8_FS = 0;\n",
      "  L_RF_FL_FL = 0;\n",
      "  L_RF_FL_FS = 0;\n",
      "  L_RF_FS_FS = 0;\n",
      "\n",
      "  // Compartment initializations:\n",
      "  default = 1;\n",
      "\n",
      "  // Variable initializations:\n",
      "  k1 = 1;\n",
      "  k2 = 0.0001277248;\n",
      "  k3 = 0.6693316;\n",
      "  k4 = 1e-05;\n",
      "  k5 = 0.0005946569;\n",
      "  k6 = 0.9999999;\n",
      "  k7 = 0.8875063;\n",
      "  k8 = 0.0008044378;\n",
      "  k9 = 0.002249759;\n",
      "  k10 = 0.1205258;\n",
      "  k11 = 0.02891451;\n",
      "  k12 = 0.1502914;\n",
      "  k13 = 0.0007204261;\n",
      "  k14 = 0.3588224;\n",
      "  k15 = 3.684162;\n",
      "  k16 = 0.02229912;\n",
      "  k17 = 0.0064182;\n",
      "\n",
      "  // Other declarations:\n",
      "  const default, k1, k2, k3, k4, k5, k6, k7, k8, k9, k10, k11, k12, k13, k14;\n",
      "  const k15, k16, k17;\n",
      "\n",
      "  // Unit definitions:\n",
      "  unit time_unit = 60 second;\n",
      "  unit substance = 1e-9 mole;\n",
      "\n",
      "  // Display Names:\n",
      "  L_RF is \"L:RF\";\n",
      "  L_RF_C8 is \"L:RF:C8\";\n",
      "  L_RF_FL is \"L:RF:FL\";\n",
      "  L_RF_FS is \"L:RF:FS\";\n",
      "  p43_p41 is \"p43/p41\";\n",
      "  C8_star is \"C8*\";\n",
      "  C3_star is \"C3*\";\n",
      "  p43_FLIP is \"p43-FLIP\";\n",
      "  NF_kB_IkB is \"NF-kB:IkB\";\n",
      "  NF_kB_IkB_P is \"NF-kB:IkB:P\";\n",
      "  p43_FLIP_IKK_star is \"p43-FLIP:IKK*\";\n",
      "  NF_kB_star is \"NF-kB*\";\n",
      "  L_RF_C8_FS is \"L:RF:C8:FS\";\n",
      "  L_RF_FL_FL is \"L:RF:FL:FL\";\n",
      "  L_RF_FL_FS is \"L:RF:FL:FS\";\n",
      "  L_RF_FS_FS is \"L:RF:FS:FS\";\n",
      "end\n",
      "\n"
     ]
    }
   ],
   "source": [
    "print getAntimonyModel(\"BIOMD0000000243\")"
   ]
  },
  {
   "cell_type": "code",
   "execution_count": 19,
   "metadata": {
    "collapsed": false
   },
   "outputs": [
    {
     "data": {
      "text/plain": [
       "53L"
      ]
     },
     "execution_count": 19,
     "metadata": {},
     "output_type": "execute_result"
    }
   ],
   "source": [
    "from sbml_shim import SBMLShim\n",
    "shim = SBMLShim.getShimForBiomodel(\"BIOMD0000000615\")\n",
    "shim._document.checkConsistency()"
   ]
  }
 ],
 "metadata": {
  "kernelspec": {
   "display_name": "Python 2",
   "language": "python",
   "name": "python2"
  },
  "language_info": {
   "codemirror_mode": {
    "name": "ipython",
    "version": 2
   },
   "file_extension": ".py",
   "mimetype": "text/x-python",
   "name": "python",
   "nbconvert_exporter": "python",
   "pygments_lexer": "ipython2",
   "version": "2.7.11"
  }
 },
 "nbformat": 4,
 "nbformat_minor": 0
}
