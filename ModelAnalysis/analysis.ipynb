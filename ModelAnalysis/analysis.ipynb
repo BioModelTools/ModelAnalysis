{
 "cells": [
  {
   "cell_type": "code",
   "execution_count": 1,
   "metadata": {
    "collapsed": false
   },
   "outputs": [
    {
     "name": "stderr",
     "output_type": "stream",
     "text": [
      "/home/ubuntu/miniconda2/lib/python2.7/site-packages/tellurium/notebooks/__init__.py:16: UserWarning: Notebook tools are not imported, due to missing dependencies.\n",
      "  warnings.warn(\"Notebook tools are not imported, due to missing dependencies.\")\n"
     ]
    }
   ],
   "source": [
    "import sys\n",
    "from util import createSBML\n",
    "from simple_sbml import SimpleSBML\n",
    "import libsbml as libsbml"
   ]
  },
  {
   "cell_type": "code",
   "execution_count": 2,
   "metadata": {
    "collapsed": false
   },
   "outputs": [
    {
     "data": {
      "text/plain": [
       "'<?xml version=\"1.0\" encoding=\"UTF-8\"?>\\n<!-- Created by libAntimony version v2.8.1 on 2017-08-26 18:20 with libSBML version 5.12.1. -->\\n<sbml xmlns=\"http://www.sbml.org/sbml/level3/version1/core\" level=\"3\" version=\"1\">\\n  <model id=\"__main\" name=\"__main\">\\n    <listOfCompartments>\\n      <compartment sboTerm=\"SBO:0000410\" id=\"default_compartment\" spatialDimensions=\"3\" size=\"1\" constant=\"true\"/>\\n    </listOfCompartments>\\n    <listOfSpecies>\\n      <species id=\"s1\" compartment=\"default_compartment\" initialConcentration=\"1\" hasOnlySubstanceUnits=\"false\" boundaryCondition=\"false\" constant=\"false\"/>\\n      <species id=\"s2\" compartment=\"default_compartment\" hasOnlySubstanceUnits=\"false\" boundaryCondition=\"false\" constant=\"false\"/>\\n    </listOfSpecies>\\n    <listOfReactions>\\n      <reaction id=\"_J0\" reversible=\"true\" fast=\"false\">\\n        <listOfReactants>\\n          <speciesReference species=\"s1\" stoichiometry=\"1\" constant=\"true\"/>\\n        </listOfReactants>\\n        <listOfProducts>\\n          <speciesReference species=\"s2\" stoichiometry=\"1\" constant=\"true\"/>\\n        </listOfProducts>\\n        <kineticLaw>\\n          <math xmlns=\"http://www.w3.org/1998/Math/MathML\">\\n            <cn type=\"integer\"> 1 </cn>\\n          </math>\\n        </kineticLaw>\\n      </reaction>\\n    </listOfReactions>\\n  </model>\\n</sbml>\\n'"
      ]
     },
     "execution_count": 2,
     "metadata": {},
     "output_type": "execute_result"
    }
   ],
   "source": [
    "antimony = '''\n",
    "s1 -> s2; 1\n",
    "s1 = 1\n",
    "'''\n",
    "sbml = createSBML(antimony)\n",
    "sbml"
   ]
  },
  {
   "cell_type": "code",
   "execution_count": null,
   "metadata": {
    "collapsed": false
   },
   "outputs": [],
   "source": [
    "dir(rr)"
   ]
  },
  {
   "cell_type": "markdown",
   "metadata": {},
   "source": [
    "# Reading a document"
   ]
  },
  {
   "cell_type": "code",
   "execution_count": null,
   "metadata": {
    "collapsed": true
   },
   "outputs": [],
   "source": [
    "def check(value, message):\n",
    "   \"\"\"If 'value' is None, prints an error message constructed using\n",
    "   'message' and then exits with status code 1.  If 'value' is an integer,\n",
    "   it assumes it is a libSBML return status code.  If the code value is\n",
    "   LIBSBML_OPERATION_SUCCESS, returns without further action; if it is not,\n",
    "   prints an error message constructed using 'message' along with text from\n",
    "   libSBML explaining the meaning of the code, and exits with status code 1.\n",
    "   \"\"\"\n",
    "   if value == None:\n",
    "     raise SystemExit('LibSBML returned a null value trying to ' + message + '.')\n",
    "   elif type(value) is int:\n",
    "     if value == LIBSBML_OPERATION_SUCCESS:\n",
    "       return\n",
    "     else:\n",
    "       err_msg = 'Error encountered trying to ' + message + '.' \\\n",
    "                 + 'LibSBML returned error code ' + str(value) + ': \"' \\\n",
    "                 + OperationReturnValue_toString(value).strip() + '\"'\n",
    "       raise SystemExit(err_msg)\n",
    "   else:\n",
    "     return"
   ]
  },
  {
   "cell_type": "code",
   "execution_count": null,
   "metadata": {
    "collapsed": false
   },
   "outputs": [],
   "source": [
    "# Iterate over species\n",
    "reader = libsbml.SBMLReader()\n",
    "document = reader.readSBML(\"chemotaxis.xml\")\n",
    "model = document.getModel()\n",
    "#for n in range(model.getNumSpecies()):\n",
    "#    print model.getSpecies(n).getId()\n"
   ]
  },
  {
   "cell_type": "code",
   "execution_count": null,
   "metadata": {
    "collapsed": false
   },
   "outputs": [],
   "source": [
    "reaction = model.getReaction(0)\n",
    "type(reaction.getReactant(0))"
   ]
  },
  {
   "cell_type": "code",
   "execution_count": null,
   "metadata": {
    "collapsed": false
   },
   "outputs": [],
   "source": [
    "for n in range(model.getNumReactions()):\n",
    "  reaction = model.getReaction(n)\n",
    "  num = reaction.getNumProducts()\n",
    "  reactant = reaction.getProduct(num - 1)\n",
    "  reactant.getSpecies())\n",
    "#dir(reaction)"
   ]
  },
  {
   "cell_type": "code",
   "execution_count": null,
   "metadata": {
    "collapsed": true
   },
   "outputs": [],
   "source": [
    " if (kl.isSetMath()):\n",
    "          formula = formulaToString(kl.getMath());\n",
    "          print(\"Reaction \" + str(n) + \", formula: \" + formula + \"\\n\");"
   ]
  },
  {
   "cell_type": "code",
   "execution_count": null,
   "metadata": {
    "collapsed": false
   },
   "outputs": [],
   "source": [
    "# Iterate over reactions\n",
    "reader = libsbml.SBMLReader()\n",
    "document = reader.readSBML(\"chemotaxis.xml\")\n",
    "model = document.getModel()\n",
    "for n in range(model.getNumReactions()):\n",
    "    reaction = model.getReaction(n)\n",
    "    stg = \" \"\n",
    "    for m in range(reaction.getNumReactants()):\n",
    "        reactant = reaction.getReactant(m)\n",
    "        stg += \" \" + reactant.getSpecies()\n",
    "    stg += \" -> \"\n",
    "    for m in range(reaction.getNumProducts()):\n",
    "        reactant = reaction.getProduct(m)\n",
    "        stg += \" \" +reactant.getSpecies()\n",
    "    kinetics = reaction.getKineticLaw()\n",
    "    stg += \"; \"\n",
    "    if kinetics.isSetMath():\n",
    "       math = kinetics.getMath()\n",
    "       if math.getNumChildren() > 0:\n",
    "         stg += \" \" + math.getLeftChild().getId()\n",
    "         new_math = math.getRightChild()\n",
    "         if new_math is not None:\n",
    "            if new_math.getLeftChild() is not None:\n",
    "              stg += \" \" + new_math.getLeftChild()\n",
    "            if new_math.getRightChild() is not None:\n",
    "              stg += \" \" + new_math.getRigthChild()\n",
    "    print stg"
   ]
  },
  {
   "cell_type": "code",
   "execution_count": null,
   "metadata": {
    "collapsed": true
   },
   "outputs": [],
   "source": [
    "reader = libsbml.SBMLReader()\n",
    "document = reader.readSBML(\"chemotaxis.xml\")\n",
    "m = document.getModel()\n",
    "\n",
    "for i in range(0, m.getNumReactions()):\n",
    "  re = m.getReaction(i);\n",
    "  import pdb; pdb.set_trace()\n",
    "  m.printAnnotation(re);"
   ]
  },
  {
   "cell_type": "code",
   "execution_count": null,
   "metadata": {
    "collapsed": false
   },
   "outputs": [],
   "source": [
    "dir(re)\n"
   ]
  },
  {
   "cell_type": "code",
   "execution_count": null,
   "metadata": {
    "collapsed": false
   },
   "outputs": [],
   "source": [
    "reader = libsbml.SBMLReader()\n",
    "document = reader.readSBML(\"chemotaxis.xml\")\n",
    "m = document.getModel()\n",
    "\n",
    "for i in range(0, m.getNumReactions()):\n",
    "  re = m.getReaction(i);\n",
    "  import pdb; pdb.set_trace()\n",
    "  m.printAnnotation(re);\n",
    "\n",
    "    # SpeciesReference (Reacatant)\n",
    "  for j in range(0, re.getNumReactants()):\n",
    "    rt = re.getReactant(j);\n",
    "    if (rt.isSetAnnotation()):\n",
    "      print(\"     \");\n",
    "    libsbml.printAnnotation(rt, rt.getSpecies());\n",
    "\n",
    "  # SpeciesReference (Product) \n",
    "  for j in range(0, re.getNumProducts()):\n",
    "    rt = re.getProduct(j);\n",
    "    if (rt.isSetAnnotation()):\n",
    "      print(\"     \");\n",
    "    printAnnotation(rt, rt.getSpecies());\n",
    "\n",
    "  # ModifierSpeciesReference (Modifiers)\n",
    "  for j in range(0, re.getNumModifiers()):\n",
    "      md = re.getModifier(j);\n",
    "      if (md.isSetAnnotation()):\n",
    "        print(\"     \");\n",
    "      printAnnotation(md, md.getSpecies());\n",
    "\n",
    "  # KineticLaw \n",
    "  if (re.isSetKineticLaw()):\n",
    "    kl = re.getKineticLaw();\n",
    "    if (kl.isSetAnnotation()):\n",
    "      print(\"   \");\n",
    "    printAnnotation(kl);\n",
    "\n",
    "    # Parameter   \n",
    "    for j in range(0, kl.getNumParameters()):\n",
    "      pa = kl.getParameter(j);\n",
    "      if (pa.isSetAnnotation()):\n",
    "        print(\"      \");\n",
    "      printAnnotation(pa);\n",
    "  \n",
    "# Species \n",
    "for i in range(0, m.getNumSpecies()):\n",
    "  sp = m.getSpecies(i);\n",
    "  printAnnotation(sp);\n",
    "  \n",
    "# Compartments \n",
    "for i in range(0, m.getNumCompartments()):\n",
    "  sp = m.getCompartment(i);\n",
    "  printAnnotation(sp);"
   ]
  },
  {
   "cell_type": "markdown",
   "metadata": {},
   "source": [
    "# Doing math"
   ]
  },
  {
   "cell_type": "code",
   "execution_count": null,
   "metadata": {
    "collapsed": false
   },
   "outputs": [],
   "source": [
    "expected = \"1 + f(x)\"\n",
    " \n",
    "xml = \"<?xml version='1.0' encoding='UTF-8'?>\"\\\n",
    "       \"<math xmlns='http://www.w3.org/1998/Math/MathML'>\"\\\n",
    "       \"  <apply> <plus/> <cn> 1 </cn>\"\\\n",
    "       \"                  <apply> <ci> f </ci> <ci> x </ci> </apply>\"\\\n",
    "       \"  </apply>\"\\\n",
    "       \"</math>\"\n",
    " \n",
    "ast    = libsbml.readMathMLFromString(xml)\n",
    "result = libsbml.formulaToString(ast)\n",
    " \n",
    "if (result == expected):\n",
    "     print \"Got expected result\"\n",
    "else:\n",
    "     print \"Mismatch after readMathMLFromString()\"\n",
    " \n",
    "new_mathml = libsbml.parseFormula(result)\n",
    "new_string = libsbml.writeMathMLToString(new_mathml)\n",
    " \n",
    "print \"Result of writing AST to string: \"\n",
    "print new_string"
   ]
  },
  {
   "cell_type": "code",
   "execution_count": null,
   "metadata": {
    "collapsed": false
   },
   "outputs": [],
   "source": [
    "x = 3\n",
    "def f(x):\n",
    "    return x + 1\n",
    "eval(expected)"
   ]
  },
  {
   "cell_type": "code",
   "execution_count": null,
   "metadata": {
    "collapsed": false
   },
   "outputs": [],
   "source": [
    "ast"
   ]
  }
 ],
 "metadata": {
  "kernelspec": {
   "display_name": "Python 2",
   "language": "python",
   "name": "python2"
  },
  "language_info": {
   "codemirror_mode": {
    "name": "ipython",
    "version": 2
   },
   "file_extension": ".py",
   "mimetype": "text/x-python",
   "name": "python",
   "nbconvert_exporter": "python",
   "pygments_lexer": "ipython2",
   "version": "2.7.11"
  }
 },
 "nbformat": 4,
 "nbformat_minor": 0
}
