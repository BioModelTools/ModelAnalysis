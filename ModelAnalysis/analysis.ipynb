{
 "cells": [
  {
   "cell_type": "code",
   "execution_count": null,
   "metadata": {
    "collapsed": false
   },
   "outputs": [],
   "source": [
    "import sys\n",
    "from util import createSBML\n",
    "from simple_sbml import SimpleSBML\n",
    "import libsbml as libsbml"
   ]
  },
  {
   "cell_type": "code",
   "execution_count": null,
   "metadata": {
    "collapsed": false
   },
   "outputs": [],
   "source": [
    "antimony = '''\n",
    "s1 -> s2; 1\n",
    "s1 = 1\n",
    "'''\n",
    "sbml = createSBML(antimony)\n",
    "sbml"
   ]
  },
  {
   "cell_type": "code",
   "execution_count": null,
   "metadata": {
    "collapsed": false
   },
   "outputs": [],
   "source": [
    "dir(rr)"
   ]
  },
  {
   "cell_type": "markdown",
   "metadata": {},
   "source": [
    "# Reading a document"
   ]
  },
  {
   "cell_type": "code",
   "execution_count": null,
   "metadata": {
    "collapsed": true
   },
   "outputs": [],
   "source": [
    "def check(value, message):\n",
    "   \"\"\"If 'value' is None, prints an error message constructed using\n",
    "   'message' and then exits with status code 1.  If 'value' is an integer,\n",
    "   it assumes it is a libSBML return status code.  If the code value is\n",
    "   LIBSBML_OPERATION_SUCCESS, returns without further action; if it is not,\n",
    "   prints an error message constructed using 'message' along with text from\n",
    "   libSBML explaining the meaning of the code, and exits with status code 1.\n",
    "   \"\"\"\n",
    "   if value == None:\n",
    "     raise SystemExit('LibSBML returned a null value trying to ' + message + '.')\n",
    "   elif type(value) is int:\n",
    "     if value == LIBSBML_OPERATION_SUCCESS:\n",
    "       return\n",
    "     else:\n",
    "       err_msg = 'Error encountered trying to ' + message + '.' \\\n",
    "                 + 'LibSBML returned error code ' + str(value) + ': \"' \\\n",
    "                 + OperationReturnValue_toString(value).strip() + '\"'\n",
    "       raise SystemExit(err_msg)\n",
    "   else:\n",
    "     return"
   ]
  },
  {
   "cell_type": "code",
   "execution_count": null,
   "metadata": {
    "collapsed": false
   },
   "outputs": [],
   "source": [
    "# Iterate over species\n",
    "reader = libsbml.SBMLReader()\n",
    "document = reader.readSBML(\"chemotaxis.xml\")\n",
    "model = document.getModel()\n",
    "#for n in range(model.getNumSpecies()):\n",
    "#    print model.getSpecies(n).getId()\n"
   ]
  },
  {
   "cell_type": "code",
   "execution_count": null,
   "metadata": {
    "collapsed": false
   },
   "outputs": [],
   "source": [
    "reaction = model.getReaction(0)\n",
    "type(reaction.getReactant(0))"
   ]
  },
  {
   "cell_type": "code",
   "execution_count": null,
   "metadata": {
    "collapsed": false
   },
   "outputs": [],
   "source": [
    "for n in range(model.getNumReactions()):\n",
    "  reaction = model.getReaction(n)\n",
    "  num = reaction.getNumProducts()\n",
    "  reactant = reaction.getProduct(num - 1)\n",
    "  reactant.getSpecies())\n",
    "#dir(reaction)"
   ]
  },
  {
   "cell_type": "code",
   "execution_count": null,
   "metadata": {
    "collapsed": true
   },
   "outputs": [],
   "source": [
    " if (kl.isSetMath()):\n",
    "          formula = formulaToString(kl.getMath());\n",
    "          print(\"Reaction \" + str(n) + \", formula: \" + formula + \"\\n\");"
   ]
  },
  {
   "cell_type": "code",
   "execution_count": null,
   "metadata": {
    "collapsed": false
   },
   "outputs": [],
   "source": [
    "# Iterate over reactions\n",
    "reader = libsbml.SBMLReader()\n",
    "document = reader.readSBML(\"chemotaxis.xml\")\n",
    "model = document.getModel()\n",
    "for n in range(model.getNumReactions()):\n",
    "    reaction = model.getReaction(n)\n",
    "    stg = \" \"\n",
    "    for m in range(reaction.getNumReactants()):\n",
    "        reactant = reaction.getReactant(m)\n",
    "        stg += \" \" + reactant.getSpecies()\n",
    "    stg += \" -> \"\n",
    "    for m in range(reaction.getNumProducts()):\n",
    "        reactant = reaction.getProduct(m)\n",
    "        stg += \" \" +reactant.getSpecies()\n",
    "    kinetics = reaction.getKineticLaw()\n",
    "    stg += \"; \"\n",
    "    if kinetics.isSetMath():\n",
    "       math = kinetics.getMath()\n",
    "       if math.getNumChildren() > 0:\n",
    "         stg += \" \" + math.getLeftChild().getId()\n",
    "         new_math = math.getRightChild()\n",
    "         if new_math is not None:\n",
    "            if new_math.getLeftChild() is not None:\n",
    "              stg += \" \" + new_math.getLeftChild()\n",
    "            if new_math.getRightChild() is not None:\n",
    "              stg += \" \" + new_math.getRigthChild()\n",
    "    print stg"
   ]
  },
  {
   "cell_type": "code",
   "execution_count": null,
   "metadata": {
    "collapsed": true
   },
   "outputs": [],
   "source": [
    "reader = libsbml.SBMLReader()\n",
    "document = reader.readSBML(\"chemotaxis.xml\")\n",
    "m = document.getModel()\n",
    "\n",
    "for i in range(0, m.getNumReactions()):\n",
    "  re = m.getReaction(i);\n",
    "  import pdb; pdb.set_trace()\n",
    "  m.printAnnotation(re);"
   ]
  },
  {
   "cell_type": "code",
   "execution_count": null,
   "metadata": {
    "collapsed": false
   },
   "outputs": [],
   "source": [
    "dir(re)\n"
   ]
  },
  {
   "cell_type": "code",
   "execution_count": null,
   "metadata": {
    "collapsed": false
   },
   "outputs": [],
   "source": [
    "reader = libsbml.SBMLReader()\n",
    "document = reader.readSBML(\"chemotaxis.xml\")\n",
    "m = document.getModel()\n",
    "\n",
    "for i in range(0, m.getNumReactions()):\n",
    "  re = m.getReaction(i);\n",
    "  import pdb; pdb.set_trace()\n",
    "  m.printAnnotation(re);\n",
    "\n",
    "    # SpeciesReference (Reacatant)\n",
    "  for j in range(0, re.getNumReactants()):\n",
    "    rt = re.getReactant(j);\n",
    "    if (rt.isSetAnnotation()):\n",
    "      print(\"     \");\n",
    "    libsbml.printAnnotation(rt, rt.getSpecies());\n",
    "\n",
    "  # SpeciesReference (Product) \n",
    "  for j in range(0, re.getNumProducts()):\n",
    "    rt = re.getProduct(j);\n",
    "    if (rt.isSetAnnotation()):\n",
    "      print(\"     \");\n",
    "    printAnnotation(rt, rt.getSpecies());\n",
    "\n",
    "  # ModifierSpeciesReference (Modifiers)\n",
    "  for j in range(0, re.getNumModifiers()):\n",
    "      md = re.getModifier(j);\n",
    "      if (md.isSetAnnotation()):\n",
    "        print(\"     \");\n",
    "      printAnnotation(md, md.getSpecies());\n",
    "\n",
    "  # KineticLaw \n",
    "  if (re.isSetKineticLaw()):\n",
    "    kl = re.getKineticLaw();\n",
    "    if (kl.isSetAnnotation()):\n",
    "      print(\"   \");\n",
    "    printAnnotation(kl);\n",
    "\n",
    "    # Parameter   \n",
    "    for j in range(0, kl.getNumParameters()):\n",
    "      pa = kl.getParameter(j);\n",
    "      if (pa.isSetAnnotation()):\n",
    "        print(\"      \");\n",
    "      printAnnotation(pa);\n",
    "  \n",
    "# Species \n",
    "for i in range(0, m.getNumSpecies()):\n",
    "  sp = m.getSpecies(i);\n",
    "  printAnnotation(sp);\n",
    "  \n",
    "# Compartments \n",
    "for i in range(0, m.getNumCompartments()):\n",
    "  sp = m.getCompartment(i);\n",
    "  printAnnotation(sp);"
   ]
  },
  {
   "cell_type": "markdown",
   "metadata": {},
   "source": [
    "# Doing math"
   ]
  },
  {
   "cell_type": "code",
   "execution_count": null,
   "metadata": {
    "collapsed": false
   },
   "outputs": [],
   "source": [
    "expected = \"1 + f(x)\"\n",
    " \n",
    "xml = \"<?xml version='1.0' encoding='UTF-8'?>\"\\\n",
    "       \"<math xmlns='http://www.w3.org/1998/Math/MathML'>\"\\\n",
    "       \"  <apply> <plus/> <cn> 1 </cn>\"\\\n",
    "       \"                  <apply> <ci> f </ci> <ci> x </ci> </apply>\"\\\n",
    "       \"  </apply>\"\\\n",
    "       \"</math>\"\n",
    " \n",
    "ast    = libsbml.readMathMLFromString(xml)\n",
    "result = libsbml.formulaToString(ast)\n",
    " \n",
    "if (result == expected):\n",
    "     print \"Got expected result\"\n",
    "else:\n",
    "     print \"Mismatch after readMathMLFromString()\"\n",
    " \n",
    "new_mathml = libsbml.parseFormula(result)\n",
    "new_string = libsbml.writeMathMLToString(new_mathml)\n",
    " \n",
    "print \"Result of writing AST to string: \"\n",
    "print new_string"
   ]
  },
  {
   "cell_type": "code",
   "execution_count": null,
   "metadata": {
    "collapsed": false
   },
   "outputs": [],
   "source": [
    "x = 3\n",
    "def f(x):\n",
    "    return x + 1\n",
    "eval(expected)"
   ]
  },
  {
   "cell_type": "code",
   "execution_count": null,
   "metadata": {
    "collapsed": false
   },
   "outputs": [],
   "source": [
    "ast"
   ]
  },
  {
   "cell_type": "code",
   "execution_count": 1,
   "metadata": {
    "collapsed": false
   },
   "outputs": [
    {
     "name": "stderr",
     "output_type": "stream",
     "text": [
      "/home/ubuntu/miniconda2/lib/python2.7/site-packages/tellurium/notebooks/__init__.py:16: UserWarning: Notebook tools are not imported, due to missing dependencies.\n",
      "  warnings.warn(\"Notebook tools are not imported, due to missing dependencies.\")\n"
     ]
    }
   ],
   "source": [
    "import tellurium as te\n",
    "def getAntimonyModel(biomodel):\n",
    "  \"\"\"\n",
    "  :param str biomodel: string identifier of the biomodel\n",
    "  \"\"\"\n",
    "  url = \"http://www.ebi.ac.uk/biomodels-main/download?mid=%s\" % biomodel\n",
    "  return te.loadSBMLModel(url).getAntimony()      "
   ]
  },
  {
   "cell_type": "code",
   "execution_count": 11,
   "metadata": {
    "collapsed": false
   },
   "outputs": [],
   "source": [
    "import urllib2\n",
    "response = urllib2.urlopen('http://www.ebi.ac.uk/biomodels-main/download?mid=BIOMD0000000227')\n",
    "xml = response.read()"
   ]
  },
  {
   "cell_type": "code",
   "execution_count": 13,
   "metadata": {
    "collapsed": false
   },
   "outputs": [
    {
     "ename": "Exception",
     "evalue": "Antimony: 2 SBML error(s) when creating module 'MODEL1608160000'.  libAntimony tries to catch these errors before libSBML complains, but sometimes cannot.  Error message(s) from libSBML:\n\nThe value of the 'id' field on every instance of the following type of object in a model must be unique: <model>, <functionDefinition>, <compartmentType>, <compartment>, <speciesType>, <species>, <reaction>, <speciesReference>, <modifierSpeciesReference>, <event>, and model-wide <parameter>s. Note that <unitDefinition> and parameters defined inside a reaction are treated separately. \nReference: L3V1 Section 3.3\n   The <parameter> id 'default_compartment' conflicts with the previously defined <compartment> id 'default_compartment' at line 329.\n\n(Extends validation rule #10301 in the SBML Level 3 Version 1 Core specification.) Within a <model> or <modelDefinition> object, the values of the attributes id and comp:id on every instance of the following classes of objects must be unique across the set of all id and comp:id attribute values of all such objects in a model: the model itself, plus all contained <functionDefinition>, <compartment>, <species>, <reaction>, <speciesReference>, <modifierSpeciesReference>, <event>, and <parameter> objects, plus the <submodel> and <deletion> objects defined by the Hierarchical Model Composition package, plus any objects defined by any other package with 'package:id' attributes defined as falling in the 'SId' namespace.\nReference: L3V1 Comp V1 Section 3.9\n   The <parameter> id 'default_compartment' conflicts with the previously defined <compartment> id 'default_compartment' at line 329.\n",
     "output_type": "error",
     "traceback": [
      "\u001b[0;31m--------------------------------------------------------------------------\u001b[0m",
      "\u001b[0;31mException\u001b[0m                                Traceback (most recent call last)",
      "\u001b[0;32m<ipython-input-13-1344b6eb3e61>\u001b[0m in \u001b[0;36m<module>\u001b[0;34m()\u001b[0m\n\u001b[0;32m----> 1\u001b[0;31m \u001b[0;32mprint\u001b[0m \u001b[0mgetAntimonyModel\u001b[0m\u001b[0;34m(\u001b[0m\u001b[0;34m\"BIOMD0000000616\"\u001b[0m\u001b[0;34m)\u001b[0m\u001b[0;34m\u001b[0m\u001b[0m\n\u001b[0m",
      "\u001b[0;32m<ipython-input-1-63b5578caf83>\u001b[0m in \u001b[0;36mgetAntimonyModel\u001b[0;34m(biomodel)\u001b[0m\n\u001b[1;32m      5\u001b[0m   \"\"\"\n\u001b[1;32m      6\u001b[0m   \u001b[0murl\u001b[0m \u001b[0;34m=\u001b[0m \u001b[0;34m\"http://www.ebi.ac.uk/biomodels-main/download?mid=%s\"\u001b[0m \u001b[0;34m%\u001b[0m \u001b[0mbiomodel\u001b[0m\u001b[0;34m\u001b[0m\u001b[0m\n\u001b[0;32m----> 7\u001b[0;31m   \u001b[0;32mreturn\u001b[0m \u001b[0mte\u001b[0m\u001b[0;34m.\u001b[0m\u001b[0mloadSBMLModel\u001b[0m\u001b[0;34m(\u001b[0m\u001b[0murl\u001b[0m\u001b[0;34m)\u001b[0m\u001b[0;34m.\u001b[0m\u001b[0mgetAntimony\u001b[0m\u001b[0;34m(\u001b[0m\u001b[0;34m)\u001b[0m\u001b[0;34m\u001b[0m\u001b[0m\n\u001b[0m",
      "\u001b[0;32m/home/ubuntu/miniconda2/lib/python2.7/site-packages/tellurium/tellurium.pyc\u001b[0m in \u001b[0;36mgetAntimony\u001b[0;34m(self, current)\u001b[0m\n\u001b[1;32m    570\u001b[0m         \"\"\"\n\u001b[1;32m    571\u001b[0m         \u001b[0msbml\u001b[0m \u001b[0;34m=\u001b[0m \u001b[0mself\u001b[0m\u001b[0;34m.\u001b[0m\u001b[0m__getSBML\u001b[0m\u001b[0;34m(\u001b[0m\u001b[0mcurrent\u001b[0m\u001b[0;34m)\u001b[0m\u001b[0;34m\u001b[0m\u001b[0m\n\u001b[0;32m--> 572\u001b[0;31m         \u001b[0;32mreturn\u001b[0m \u001b[0msbmlToAntimony\u001b[0m\u001b[0;34m(\u001b[0m\u001b[0msbml\u001b[0m\u001b[0;34m)\u001b[0m\u001b[0;34m\u001b[0m\u001b[0m\n\u001b[0m\u001b[1;32m    573\u001b[0m \u001b[0;34m\u001b[0m\u001b[0m\n\u001b[1;32m    574\u001b[0m     \u001b[0;32mdef\u001b[0m \u001b[0mgetCurrentAntimony\u001b[0m\u001b[0;34m(\u001b[0m\u001b[0mself\u001b[0m\u001b[0;34m)\u001b[0m\u001b[0;34m:\u001b[0m\u001b[0;34m\u001b[0m\u001b[0m\n",
      "\u001b[0;32m/home/ubuntu/miniconda2/lib/python2.7/site-packages/tellurium/tellurium.pyc\u001b[0m in \u001b[0;36msbmlToAntimony\u001b[0;34m(sbml)\u001b[0m\n\u001b[1;32m    276\u001b[0m     \u001b[0;32melse\u001b[0m\u001b[0;34m:\u001b[0m\u001b[0;34m\u001b[0m\u001b[0m\n\u001b[1;32m    277\u001b[0m         \u001b[0mcode\u001b[0m \u001b[0;34m=\u001b[0m \u001b[0mantimony\u001b[0m\u001b[0;34m.\u001b[0m\u001b[0mloadSBMLString\u001b[0m\u001b[0;34m(\u001b[0m\u001b[0msbml\u001b[0m\u001b[0;34m)\u001b[0m\u001b[0;34m\u001b[0m\u001b[0m\n\u001b[0;32m--> 278\u001b[0;31m     \u001b[0m_checkAntimonyReturnCode\u001b[0m\u001b[0;34m(\u001b[0m\u001b[0mcode\u001b[0m\u001b[0;34m)\u001b[0m\u001b[0;34m\u001b[0m\u001b[0m\n\u001b[0m\u001b[1;32m    279\u001b[0m     \u001b[0;32mreturn\u001b[0m \u001b[0mantimony\u001b[0m\u001b[0;34m.\u001b[0m\u001b[0mgetAntimonyString\u001b[0m\u001b[0;34m(\u001b[0m\u001b[0mNone\u001b[0m\u001b[0;34m)\u001b[0m\u001b[0;34m\u001b[0m\u001b[0m\n\u001b[1;32m    280\u001b[0m \u001b[0;34m\u001b[0m\u001b[0m\n",
      "\u001b[0;32m/home/ubuntu/miniconda2/lib/python2.7/site-packages/tellurium/tellurium.pyc\u001b[0m in \u001b[0;36m_checkAntimonyReturnCode\u001b[0;34m(code)\u001b[0m\n\u001b[1;32m    153\u001b[0m     \"\"\"\n\u001b[1;32m    154\u001b[0m     \u001b[0;32mif\u001b[0m \u001b[0mcode\u001b[0m \u001b[0;34m<\u001b[0m \u001b[0;36m0\u001b[0m\u001b[0;34m:\u001b[0m\u001b[0;34m\u001b[0m\u001b[0m\n\u001b[0;32m--> 155\u001b[0;31m         \u001b[0;32mraise\u001b[0m \u001b[0mException\u001b[0m\u001b[0;34m(\u001b[0m\u001b[0;34m'Antimony: {}'\u001b[0m\u001b[0;34m.\u001b[0m\u001b[0mformat\u001b[0m\u001b[0;34m(\u001b[0m\u001b[0mantimony\u001b[0m\u001b[0;34m.\u001b[0m\u001b[0mgetLastError\u001b[0m\u001b[0;34m(\u001b[0m\u001b[0;34m)\u001b[0m\u001b[0;34m)\u001b[0m\u001b[0;34m)\u001b[0m\u001b[0;34m\u001b[0m\u001b[0m\n\u001b[0m\u001b[1;32m    156\u001b[0m \u001b[0;34m\u001b[0m\u001b[0m\n\u001b[1;32m    157\u001b[0m \u001b[0;34m\u001b[0m\u001b[0m\n",
      "\u001b[0;31mException\u001b[0m: Antimony: 2 SBML error(s) when creating module 'MODEL1608160000'.  libAntimony tries to catch these errors before libSBML complains, but sometimes cannot.  Error message(s) from libSBML:\n\nThe value of the 'id' field on every instance of the following type of object in a model must be unique: <model>, <functionDefinition>, <compartmentType>, <compartment>, <speciesType>, <species>, <reaction>, <speciesReference>, <modifierSpeciesReference>, <event>, and model-wide <parameter>s. Note that <unitDefinition> and parameters defined inside a reaction are treated separately. \nReference: L3V1 Section 3.3\n   The <parameter> id 'default_compartment' conflicts with the previously defined <compartment> id 'default_compartment' at line 329.\n\n(Extends validation rule #10301 in the SBML Level 3 Version 1 Core specification.) Within a <model> or <modelDefinition> object, the values of the attributes id and comp:id on every instance of the following classes of objects must be unique across the set of all id and comp:id attribute values of all such objects in a model: the model itself, plus all contained <functionDefinition>, <compartment>, <species>, <reaction>, <speciesReference>, <modifierSpeciesReference>, <event>, and <parameter> objects, plus the <submodel> and <deletion> objects defined by the Hierarchical Model Composition package, plus any objects defined by any other package with 'package:id' attributes defined as falling in the 'SId' namespace.\nReference: L3V1 Comp V1 Section 3.9\n   The <parameter> id 'default_compartment' conflicts with the previously defined <compartment> id 'default_compartment' at line 329.\n"
     ]
    }
   ],
   "source": [
    "print getAntimonyModel(\"BIOMD0000000616\")"
   ]
  }
 ],
 "metadata": {
  "kernelspec": {
   "display_name": "Python 2",
   "language": "python",
   "name": "python2"
  },
  "language_info": {
   "codemirror_mode": {
    "name": "ipython",
    "version": 2
   },
   "file_extension": ".py",
   "mimetype": "text/x-python",
   "name": "python",
   "nbconvert_exporter": "python",
   "pygments_lexer": "ipython2",
   "version": "2.7.11"
  }
 },
 "nbformat": 4,
 "nbformat_minor": 0
}
